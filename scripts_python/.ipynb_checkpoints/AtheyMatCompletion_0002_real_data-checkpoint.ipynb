{
 "cells": [
  {
   "cell_type": "code",
   "execution_count": 1,
   "metadata": {},
   "outputs": [],
   "source": [
    "%load_ext autoreload\n",
    "%autoreload 2\n",
    "%matplotlib inline"
   ]
  },
  {
   "cell_type": "code",
   "execution_count": 2,
   "metadata": {},
   "outputs": [],
   "source": [
    "import time\n",
    "import datetime\n",
    "\n",
    "import pandas as pd\n",
    "def ends(df, x=5):\n",
    "    return df.head(x).append(df.tail(x))\n",
    "setattr(pd.DataFrame,'ends',ends)\n",
    "import numpy as np\n",
    "\n",
    "import matplotlib.pyplot as plt\n",
    "import seaborn as sns\n",
    "\n",
    "import itertools\n",
    "import collections\n",
    "\n",
    "from sklearn.model_selection import KFold"
   ]
  },
  {
   "cell_type": "code",
   "execution_count": 3,
   "metadata": {},
   "outputs": [],
   "source": [
    "# importing my own module\n",
    "from pymcnnm import *"
   ]
  },
  {
   "cell_type": "markdown",
   "metadata": {},
   "source": [
    "# Real Data"
   ]
  },
  {
   "cell_type": "markdown",
   "metadata": {},
   "source": [
    "I have to say I was slightly disappointed by the application of the method to ''real'' data. Athey et al. do not really apply to actual data, with actual treated units at specific times. In other words, in the paper they use a matrix where there are no missing entries (i.e., there is no treatment), and they choose a subset of units and some randomly selected times to assign a hypothetical treatment (that is kept following the initial period). After ''pretending'' the data is missing for those units at those times, the aim is the reconstruct the missing entries in the matrix.\n",
    "\n",
    "They compare the reconstruction error for different methods, such as Difference-in-differences, and different versions of synthetic control approaches, which Athey et al. show can all be interpreted under the unifying framework of matrix factorization methods:\n",
    "$$\n",
    "    \\widehat{\\mathbf{L}}^{\\mathrm{est}}=\\mathbf{A}^{\\mathrm{est}}{\\mathbf{B}^{\\mathrm{est}}}^T,\n",
    "$$\n",
    "for some $\\mathbf{A}^{\\mathrm{est}}$ and $\\mathbf{B}^{\\mathrm{est}}$ which are solutions to optimization procedures of the form\n",
    "$$\n",
    "    \\mathrm{arg min}_{(\\mathbf{A},\\mathbf{B})}\\left\\{\\frac{1}{\\left|\\mathcal{O}\\right|}\\left\\| \\mathbf{P}_{\\mathcal{O}}(\\mathbf{Y}-\\mathbf{A}\\mathbf{B}^T) \\right\\|_{F}^2 + \\mathrm{regularization~~on~~} \\mathbf{A}\\mathrm{~~and~~}\\mathbf{B}\\right\\},\n",
    "$$\n",
    "plus some other restrictions on $\\mathbf{A}$ and $\\mathbf{B}$."
   ]
  },
  {
   "cell_type": "markdown",
   "metadata": {},
   "source": [
    "Because they artificially create the ''treatment'', we are going to implement their two options:\n",
    "1. **Simultaneous adoption**: where $N_t$ units adopt simultaneously the treatment in period $t_0+1$, while the other units never adopt the treatment.\n",
    "2. **Staggered adoption**: where $N_t$ units adopt the treatment, but each does so in randomly chosen times."
   ]
  },
  {
   "cell_type": "markdown",
   "metadata": {},
   "source": [
    "## Using the Abadie-Diamond-Hainmueller California Smoking Data"
   ]
  },
  {
   "cell_type": "code",
   "execution_count": 4,
   "metadata": {},
   "outputs": [],
   "source": [
    "PATH_FROM_URL = \"https://raw.githubusercontent.com/susanathey/MCPanel/master/tests/examples_from_paper/california/\"\n",
    "\n",
    "X = pd.read_csv(PATH_FROM_URL + 'smok_covariates.csv',header=None).values\n",
    "Yreal = pd.read_csv(PATH_FROM_URL + \"smok_outcome.csv\", header=None).values.T\n",
    "treat = pd.read_csv(PATH_FROM_URL + 'smok_treatment.csv',header=None).values.T\n",
    "years = np.arange(1970,2001)\n",
    "\n",
    "## First row (treated unit)\n",
    "CA_y = Yreal[1,:]\n",
    "\n",
    "## Working with the rest of matrix (i.e., dropping first row)\n",
    "treat = treat[1:,:] \n",
    "Yreal = Yreal[1:,:]\n",
    "\n",
    "N, T = Yreal.shape"
   ]
  },
  {
   "cell_type": "code",
   "execution_count": 5,
   "metadata": {},
   "outputs": [
    {
     "name": "stdout",
     "output_type": "stream",
     "text": [
      "Covariates = \n",
      "[[ 10.08   9.68   9.64   9.98  10.19   9.97   9.82   9.71  10.01   9.83\n",
      "    9.84   9.92   9.7    9.75   9.79   9.94   9.55   9.88   9.75   9.85\n",
      "   10.02  10.01   9.71   9.75   9.76   9.89   9.81   9.93   9.93   9.67\n",
      "    9.7    9.74   9.9    9.68   9.82   9.96   9.65   9.88   9.91]\n",
      " [ 89.42  89.34  89.88  82.62 103.48  90.06  84.37  86.08  89.83  81.09\n",
      "   90.66  87.79  71.49  90.07  91.9   96.29  88.92  84.47  85.59  89.49\n",
      "   93.24  83.4   87.49  71.44  88.9   84.56  90.48  89.18  90.22  76.61\n",
      "   88.54  85.18  92.48  89.43  88.02  74.79  92.59  95.16  81.  ]\n",
      " [  0.17   0.17   0.16   0.17   0.16   0.18   0.18   0.15   0.17   0.18\n",
      "    0.17   0.17   0.18   0.18   0.17   0.17   0.18   0.17   0.17   0.17\n",
      "    0.16   0.17   0.17   0.18   0.18   0.17   0.17   0.16   0.18   0.18\n",
      "    0.17   0.17   0.18   0.19   0.18   0.18   0.16   0.17   0.17]\n",
      " [ 24.28  18.96  18.52  25.08  20.7   26.08  21.76  22.22  24.74  21.98\n",
      "   23.24  19.94  18.94  23.88  22.44  23.12  21.14  23.88  27.88  24.72\n",
      "   37.    34.96  27.98  19.92  23.5   24.02  18.14  25.08  25.54  22.9\n",
      "   21.26  20.58  28.58  13.34  27.06  23.    19.8   32.04  24.98]\n",
      " [ 90.1  112.1  121.5   94.6  104.8  137.1  124.1   84.5  107.6  134.\n",
      "  100.2  103.2  173.2  110.9  125.    94.1  109.   127.4   87.1   92.9\n",
      "  141.9  180.4   77.7  146.    87.1  122.4  103.6  107.6  138.   124.4\n",
      "   91.9  125.3   96.5   55.   128.7  129.5  109.1  102.6  114.3 ]\n",
      " [120.2  123.2  131.8  131.   118.   150.5  134.   115.2  135.2  146.9\n",
      "  124.6  127.1  215.3  143.8  141.2  117.7  127.   142.1  122.   116.3\n",
      "  177.7  247.8  102.7  187.8  123.7  133.5  141.6  124.   149.3  138.3\n",
      "  114.7  130.4  129.7   74.8  161.6  148.9  122.3  117.6  158.1 ]\n",
      " [127.1  111.7  114.8  131.   110.2  147.6  122.9  123.3  131.8  162.4\n",
      "  120.5  123.4  223.   133.6  140.7  111.5  116.8  135.6  123.7  114.1\n",
      "  205.2  269.1  103.1  226.   117.9  122.5  132.9  114.6  154.7  130.5\n",
      "  113.5  117.4  116.    75.8  155.5  152.7  123.2  113.5  160.7 ]]\n",
      "(7, 39)\n",
      "Outcomes = \n",
      "[[ 89.8  95.4 101.1 ... 106.2 100.7  96.2]\n",
      " [100.3 104.1 103.9 ... 109.5 104.8  99.4]\n",
      " [124.8 125.5 134.3 ...  81.2  79.6  73. ]\n",
      " ...\n",
      " [114.5 111.5 117.5 ... 114.6 112.4 107.9]\n",
      " [106.4 105.4 108.8 ...  88.7  84.4  80.1]\n",
      " [132.2 131.7 140.  ... 102.9 104.8  90.5]]\n",
      "(38, 31)\n",
      "Treatment = \n",
      "[[0 0 0 ... 0 0 0]\n",
      " [0 0 0 ... 0 0 0]\n",
      " [0 0 0 ... 0 0 0]\n",
      " ...\n",
      " [0 0 0 ... 0 0 0]\n",
      " [0 0 0 ... 0 0 0]\n",
      " [0 0 0 ... 0 0 0]]\n",
      "(38, 31)\n"
     ]
    }
   ],
   "source": [
    "# Note that np.printoptions() is only available in version 1.15 and later of Numpy.\n",
    "with np.printoptions(precision=2, suppress=True):\n",
    "    print(\"Covariates = \\n{}\".format(X))\n",
    "    print(X.shape)\n",
    "    print(\"Outcomes = \\n{}\".format(Yreal))\n",
    "    print(Yreal.shape)\n",
    "    print(\"Treatment = \\n{}\".format(treat))\n",
    "    print(treat.shape)"
   ]
  },
  {
   "cell_type": "code",
   "execution_count": 6,
   "metadata": {},
   "outputs": [
    {
     "data": {
      "image/png": "[encoded data removed]",
      "text/plain": [
       "<Figure size 432x288 with 1 Axes>"
      ]
     },
     "metadata": {
      "needs_background": "light"
     },
     "output_type": "display_data"
    }
   ],
   "source": [
    "plt.imshow(Yreal, cmap=plt.cm.gray);"
   ]
  },
  {
   "cell_type": "code",
   "execution_count": 7,
   "metadata": {},
   "outputs": [
    {
     "name": "stdout",
     "output_type": "stream",
     "text": [
      "Lambda vector:[3.30000000e+00 1.24717241e+02 2.46134483e+02 3.67551724e+02\n",
      " 4.88968966e+02 6.10386207e+02 7.31803448e+02 8.53220690e+02\n",
      " 9.74637931e+02 1.09605517e+03 1.21747241e+03 1.33888966e+03\n",
      " 1.46030690e+03 1.58172414e+03 1.70314138e+03 1.82455862e+03\n",
      " 1.94597586e+03 2.06739310e+03 2.18881034e+03 2.31022759e+03\n",
      " 2.43164483e+03 2.55306207e+03 2.67447931e+03 2.79589655e+03\n",
      " 2.91731379e+03 3.03873103e+03 3.16014828e+03 3.28156552e+03\n",
      " 3.40298276e+03 3.52440000e+03]\n"
     ]
    },
    {
     "data": {
      "image/png": "[encoded data removed]",
      "text/plain": [
       "<Figure size 432x288 with 1 Axes>"
      ]
     },
     "metadata": {
      "needs_background": "light"
     },
     "output_type": "display_data"
    }
   ],
   "source": [
    "# specifying the units treated, and the earliest time of treatment\n",
    "Nt = 20\n",
    "tr_units = np.random.choice(list(range(N)), size=Nt, replace=False)\n",
    "t0 = int(T/2)\n",
    "\n",
    "# -------------------------------------------\n",
    "Yobs = stag_adopt(Yreal, tr_units, t0)\n",
    "plt.imshow(Yobs, cmap=plt.cm.gray);\n",
    "\n",
    "observedset = np.argwhere(~np.isnan(Yobs))\n",
    "\n",
    "# Specifying a set of values for lambda from a SVD on the Yobs with missing=0\n",
    "U, Sigma, VT = np.linalg.svd(PO_operator(Yobs, tuple(observedset.T)), full_matrices=False)\n",
    "lambda_values = np.linspace(1.1*np.min(np.floor(Sigma[Sigma>0])),\n",
    "                            0.9*np.max(np.floor(Sigma[Sigma>0])), \n",
    "                            num=30)\n",
    "print(\"Lambda vector:{}\".format(lambda_values))\n",
    "\n",
    "# Creating GridSearchCV-type objects\n",
    "tuned_parameters = [{'lamb': lambda_values}]\n",
    "n_folds = 5\n"
   ]
  },
  {
   "cell_type": "code",
   "execution_count": 8,
   "metadata": {},
   "outputs": [
    {
     "name": "stdout",
     "output_type": "stream",
     "text": [
      "\n",
      "Matrix of errors:\n",
      "-----------------\n",
      "                      Fold 1      Fold 2      Fold 3      Fold 4      Fold 5\n",
      "Lambda = 3.3      126.004056  129.063985  129.581431  126.927600  126.948415\n",
      "Lambda = 124.72   118.509876  111.954215  118.572800  127.306213  126.531688\n",
      "Lambda = 246.13    61.948650   38.491943   13.059615   53.262355   10.636265\n",
      "Lambda = 367.55     9.699126   47.229034    9.484083    8.417669   10.430008\n",
      "Lambda = 488.97     9.613556   11.050761   10.400633    9.917536   10.406718\n",
      "Lambda = 610.39    11.156109   13.468772   11.141581    9.417426   10.984121\n",
      "Lambda = 731.8      9.736050   12.067109   11.833605   11.560411   11.377129\n",
      "Lambda = 853.22     9.701971   13.558720   10.266379   10.628842   11.831387\n",
      "Lambda = 974.64    10.395732   10.218458   10.375969   11.378359   13.734907\n",
      "Lambda = 1096.06   13.233091   11.538155   11.325812    9.751065   11.204229\n",
      "Lambda = 1217.47   12.207175   11.480327   11.536716   12.416347   10.029744\n",
      "Lambda = 1338.89   10.983493   11.184670   10.845544   12.691521   11.738960\n",
      "Lambda = 1460.31   12.323526   11.134356   10.664073   11.484188   11.129737\n",
      "Lambda = 1581.72   11.186810   11.145602   12.208794   11.674934    9.801268\n",
      "Lambda = 1703.14    9.122207   11.736073   12.264773   11.511560   12.712422\n",
      "Lambda = 1824.56   11.910810   11.442141   10.768403   11.964594   10.623977\n",
      "Lambda = 1945.98   11.122095   11.747651   11.158070   11.269172   11.261026\n",
      "Lambda = 2067.39   12.171931   11.400218   11.267713   10.904076   10.661946\n",
      "Lambda = 2188.81   10.077731   12.248555   11.082686   11.784969   11.221154\n",
      "Lambda = 2310.23   10.289543   11.269648   12.785740   11.381229   10.767880\n",
      "Lambda = 2431.64   11.438929   11.881477   10.629635   11.972408   10.550347\n",
      "Lambda = 2553.06   10.311443   11.769331   12.291826   12.186107    9.939210\n",
      "Lambda = 2674.48   10.888658   13.214087   11.193662   11.003451   10.988688\n",
      "Lambda = 2795.9    11.637575   12.816067   10.930601    9.958747   11.319994\n",
      "Lambda = 2917.31   10.895078   10.497680   11.311771   12.136681   11.782225\n",
      "Lambda = 3038.73   11.453531   10.773912   11.424360   11.366079   12.217605\n",
      "Lambda = 3160.15  131.771782   11.389284  131.370785   11.173243   12.389810\n",
      "Lambda = 3281.57  130.479451  128.890596  128.107514  124.101054  126.872385\n",
      "Lambda = 3402.98  124.054200  130.705967  127.442830  130.483749  125.743884\n",
      "Lambda = 3524.4   127.849216  125.990933  127.681961  126.027719  130.954833\n",
      "\n",
      "Average RMSE across folds:\n",
      "--------------------------\n",
      "Lambda = 3.3        127.705097\n",
      "Lambda = 124.72     120.574958\n",
      "Lambda = 246.13      35.479766\n",
      "Lambda = 367.55      17.051984\n",
      "Lambda = 488.97      10.277841\n",
      "Lambda = 610.39      11.233602\n",
      "Lambda = 731.8       11.314861\n",
      "Lambda = 853.22      11.197459\n",
      "Lambda = 974.64      11.220685\n",
      "Lambda = 1096.06     11.410470\n",
      "Lambda = 1217.47     11.534062\n",
      "Lambda = 1338.89     11.488837\n",
      "Lambda = 1460.31     11.347176\n",
      "Lambda = 1581.72     11.203482\n",
      "Lambda = 1703.14     11.469407\n",
      "Lambda = 1824.56     11.341985\n",
      "Lambda = 1945.98     11.311603\n",
      "Lambda = 2067.39     11.281177\n",
      "Lambda = 2188.81     11.283019\n",
      "Lambda = 2310.23     11.298808\n",
      "Lambda = 2431.64     11.294559\n",
      "Lambda = 2553.06     11.299584\n",
      "Lambda = 2674.48     11.457709\n",
      "Lambda = 2795.9      11.332597\n",
      "Lambda = 2917.31     11.324687\n",
      "Lambda = 3038.73     11.447097\n",
      "Lambda = 3160.15     59.618981\n",
      "Lambda = 3281.57    127.690200\n",
      "Lambda = 3402.98    127.686126\n",
      "Lambda = 3524.4     127.700932\n",
      "dtype: float64\n",
      "\n",
      "Best parameter value (returned):\n",
      "--------------------------------\n",
      "488.969\n"
     ]
    }
   ],
   "source": [
    "best_lamb = mcnnm_GridSearch(Yreal, Yobs, observedset, lambda_values, num_splits=n_folds, doprint=True)"
   ]
  },
  {
   "cell_type": "code",
   "execution_count": 9,
   "metadata": {},
   "outputs": [
    {
     "name": "stdout",
     "output_type": "stream",
     "text": [
      "Iteration 1\t Current loss: 13.876289231126881\n",
      "Iteration 20\t Current loss: 8.50964056144578\n",
      "Iteration 40\t Current loss: 8.16313734198675\n",
      "Iteration 60\t Current loss: 8.114896023188143\n",
      "Iteration 80\t Current loss: 8.10778464695716\n",
      "Iteration 100\t Current loss: 8.105611590468543\n",
      "Iteration 120\t Current loss: 8.103475643724\n",
      "Iteration 140\t Current loss: 8.10016763991448\n",
      "Iteration 160\t Current loss: 8.094316317888891\n",
      "Iteration 180\t Current loss: 8.082577143931712\n",
      "Iteration 200\t Current loss: 8.054385128457678\n",
      "\n",
      "Final values:\n",
      "Iteration 200\t Current loss: 8.054385128457678\n",
      "\n",
      "[[ 89.8  95.4 101.1 ...   nan   nan   nan]\n",
      " [100.3 104.1 103.9 ... 109.5 104.8  99.4]\n",
      " [124.8 125.5 134.3 ...  81.2  79.6  73. ]\n",
      " ...\n",
      " [114.5 111.5 117.5 ...   nan   nan   nan]\n",
      " [106.4 105.4 108.8 ...  88.7  84.4  80.1]\n",
      " [132.2 131.7 140.  ...   nan   nan   nan]]\n",
      "[[ 1.0738e+02  1.0865e+02  1.1388e+02 ...  2.8500e+01  3.0700e+01\n",
      "   1.9720e+01]\n",
      " [ 1.0778e+02  1.1299e+02  1.1832e+02 ...  1.1038e+02  1.0609e+02\n",
      "   1.0307e+02]\n",
      " [ 1.1507e+02  1.1904e+02  1.2470e+02 ...  8.4880e+01  8.2910e+01\n",
      "   7.6470e+01]\n",
      " ...\n",
      " [ 1.1470e+02  1.1460e+02  1.2016e+02 ...  9.0000e-02  4.8400e+00\n",
      "  -9.8500e+00]\n",
      " [ 1.0114e+02  1.0540e+02  1.1039e+02 ...  9.0630e+01  8.7640e+01\n",
      "   8.3540e+01]\n",
      " [ 1.3202e+02  1.3697e+02  1.4347e+02 ...  1.0545e+02  1.0256e+02\n",
      "   9.5960e+01]]\n"
     ]
    },
    {
     "data": {
      "text/plain": [
       "8.054385128457678"
      ]
     },
     "execution_count": 9,
     "metadata": {},
     "output_type": "execute_result"
    }
   ],
   "source": [
    "# Initializing the MC-NNM object\n",
    "my_mcnnm = MatrixCompletion_NNM(setOk=tuple(observedset.T), \n",
    "                                lamb=best_lamb, # <------ best value!\n",
    "                                epsilon=10**(-6), doprint=True, max_iters=200, printbatch=20)\n",
    "\n",
    "# Fitting (/transforming)\n",
    "Lest = my_mcnnm.fit_transform(Yobs)\n",
    "\n",
    "# total loss on the full sample\n",
    "mcnnm_loss(Yreal, Lest, tuple(observedset.T))"
   ]
  },
  {
   "cell_type": "code",
   "execution_count": 10,
   "metadata": {},
   "outputs": [
    {
     "data": {
      "image/png": "[encoded data removed]",
      "text/plain": [
       "<Figure size 432x288 with 2 Axes>"
      ]
     },
     "metadata": {
      "needs_background": "light"
     },
     "output_type": "display_data"
    }
   ],
   "source": [
    "fig, (ax0, ax1) = plt.subplots(ncols=2)\n",
    "ax0.imshow(Yreal, cmap=plt.cm.gray)\n",
    "ax1.imshow(Lest, cmap=plt.cm.gray)\n",
    "plt.show()"
   ]
  },
  {
   "cell_type": "code",
   "execution_count": null,
   "metadata": {},
   "outputs": [],
   "source": []
  }
 ],
 "metadata": {
  "kernelspec": {
   "display_name": "Python 3",
   "language": "python",
   "name": "python3"
  },
  "language_info": {
   "codemirror_mode": {
    "name": "ipython",
    "version": 3
   },
   "file_extension": ".py",
   "mimetype": "text/x-python",
   "name": "python",
   "nbconvert_exporter": "python",
   "pygments_lexer": "ipython3",
   "version": "3.6.6"
  }
 },
 "nbformat": 4,
 "nbformat_minor": 2
}
