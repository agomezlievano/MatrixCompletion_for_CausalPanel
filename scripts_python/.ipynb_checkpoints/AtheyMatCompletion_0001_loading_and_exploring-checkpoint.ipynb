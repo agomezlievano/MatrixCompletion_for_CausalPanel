{
 "cells": [
  {
   "cell_type": "code",
   "execution_count": 1,
   "metadata": {},
   "outputs": [],
   "source": [
    "%load_ext autoreload\n",
    "%autoreload 2\n",
    "%matplotlib inline"
   ]
  },
  {
   "cell_type": "code",
   "execution_count": 2,
   "metadata": {},
   "outputs": [],
   "source": [
    "import time\n",
    "import datetime\n",
    "\n",
    "import pandas as pd\n",
    "def ends(df, x=5):\n",
    "    return df.head(x).append(df.tail(x))\n",
    "setattr(pd.DataFrame,'ends',ends)\n",
    "import numpy as np\n",
    "\n",
    "import matplotlib.pyplot as plt\n",
    "import seaborn as sns\n",
    "\n",
    "import itertools\n",
    "import collections\n",
    "\n",
    "from sklearn.model_selection import KFold"
   ]
  },
  {
   "cell_type": "markdown",
   "metadata": {},
   "source": [
    "# What we're doing"
   ]
  },
  {
   "cell_type": "markdown",
   "metadata": {},
   "source": [
    "For many years now, I've been very interested in two related, but different questions:\n",
    "1. How to _apply_ Machine Learning to Economics by integrating ML into the usual econometric pipeline?\n",
    "2. What do the ML algorithms themselves teach us about how economies work.\n",
    "\n",
    "Recently, however, there seems to be a wave of interest (especially coming from the work coming from Stanford University) in these questions. This notebook is about the point 1. In particular, about the problem of estimating causal inference. (Unfortunately, point 2 seems to be still far from being considered.)"
   ]
  },
  {
   "cell_type": "markdown",
   "metadata": {},
   "source": [
    "We are going to replicate the methodology (and hopefully results) of a recent paper in which the problem of causal inference is seen from the lens of the problem of ''matrix completion'' from the machine learning literature. I found out about this paper thanks to my dear friend Sid Ravinutala."
   ]
  },
  {
   "cell_type": "markdown",
   "metadata": {},
   "source": [
    "Since I became aware of this paper, I've become increasingly interested in **Susan Athey**'s work, who's precisely preaching about the importance of using ML in economics. Let's see what she did here..."
   ]
  },
  {
   "cell_type": "markdown",
   "metadata": {},
   "source": [
    "# Set up of the problem"
   ]
  },
  {
   "cell_type": "markdown",
   "metadata": {},
   "source": [
    "The paper we want to reproduce is: \n",
    "\n",
    "''Matrix Completion Methods for Causal Panel Data Models''\n",
    "by Susan Athey, Mohsen Bayati, Nikolay Doudchenko, Guido Imbens, Khashayar Khosravi\n",
    "(NBER Working Paper No. 25132, also available in [arxiv](https://arxiv.org/pdf/1710.10251.pdf))\n",
    "\n",
    "NOTE: Check [her GitHub](https://github.com/susanathey/), as she made available her code in R. I'll try to implement her functions in Python instead."
   ]
  },
  {
   "cell_type": "markdown",
   "metadata": {},
   "source": [
    "The setup of the problem is to consider $N$ units across $T$ time steps. For each unit and time, there are two potential outcomes: $Y_{it}(0)$ if not treated, $Y_{it}(1)$ if treated. The treatment variable can be denoted by $W_{it}$. Hence, the realized outcome is $Y_{it}=Y_{it}(W_{it})$.\n",
    "\n",
    "The basic goal of causal identification is to estimate \n",
    "$$\\widehat{ATE} \\equiv \\frac{1}{NT}\\sum_{i,t}\\left(Y_{it}(1) - Y_{it}(0)\\right.)$$ \n",
    "The fundamental problem in causal identification, however, is that we never observe both $Y_{it}(0)$ and $Y_{it}(1)$. We either observe one, or the other."
   ]
  },
  {
   "cell_type": "markdown",
   "metadata": {},
   "source": [
    "Athey's et al. (2018) solution is based on the following: First, $Y_{it}(0)$ (or $Y_{it}(1)$) is a $N\\times T$ matrix with missing values. Second, there are several methodologies to impute missing values in matrices. Hence, to get the ''counterfactual'' matrix, we can make use of the methods to impute missing values.\n",
    "\n",
    "Athey et al. focus specifically on imputing missing values in $Y_{it}(0)$ (i.e., the counterfactuals of those treated).\n",
    "\n",
    "Many algorithms for imputing missing values in matrices are based on matrix factorization methods. The different methods differ in the constraints. See [Udell et al. (2015)](https://arxiv.org/pdf/1410.0342.pdf) for a good review."
   ]
  },
  {
   "cell_type": "markdown",
   "metadata": {},
   "source": [
    "Athey's et al. (2018) use the method ''Nuclear Norm Matrix Completion Estimator''."
   ]
  },
  {
   "cell_type": "markdown",
   "metadata": {},
   "source": [
    "# Nuclear Norm Matrix Completion Estimator"
   ]
  },
  {
   "cell_type": "markdown",
   "metadata": {},
   "source": [
    "Let us represent the $N\\times T$ matrix we are interested in with $\\mathbf{Y}=\\mathbf{L^*}+\\boldsymbol{\\varepsilon}$, where $\\boldsymbol{\\varepsilon}$ can be considered as measurement error. Athey et al. set up the methodological problem as estimating\n",
    "$$\n",
    "\\widehat{\\mathbf{L}}=\\mathrm{arg min}_{\\mathbf{L}}\\left\\{\\frac{1}{\\left|\\mathcal{O}\\right|}\\left\\| \\mathbf{P}_{\\mathcal{O}}(\\mathbf{Y}-\\mathbf{L}) \\right\\|_{F}^2 + \\lambda \\left\\| \\mathbf{L} \\right\\|_{*} \\right\\}.\n",
    "$$\n",
    "\n",
    "- The set of _non-missing_ elements is defined by all $(i,t)\\in\\mathcal{O}$, while the set of _missing_ elements by  $(i,t)\\in\\mathcal{M}$.\n",
    "- The term $\\mathbf{P}_{\\mathcal{O}}(\\mathbf{A})$ is an operator that sets to $0$ all the elements in matrix $\\mathbf{A}$ which do not belong to the set of matrix elements $\\mathcal{O}$. In other words, we just keep the non-missing elements $\\mathcal{O}$, but we replace the missing elements with 0's. $\\mathbf{P}_{\\mathcal{O}}^{\\bot}(\\mathbf{A})$ would do the opposite.\n",
    "- The term $\\left\\| \\cdot \\right\\|_{F}^2$ is the Frobenius Norm: $\\left\\| \\mathbf{A} \\right\\|_{F}^2 = \\sum_{i,j}A_{i,j}^2=\\sum_k\\sigma_k(\\mathbf{A})^2$, where $\\sigma_i(\\mathbf{A})$ are the singular values of the matrix (given by a Singular Value Decomposition).\n",
    "- The term $\\left\\| \\cdot \\right\\|_{*}$ is the **Nuclear Norm** regularization of the minimization problem, given by $\\left\\| \\mathbf{A} \\right\\|_{*} = \\sum_k\\sigma_k(\\mathbf{A})$. Recall that the singular values are always non-negative."
   ]
  },
  {
   "cell_type": "markdown",
   "metadata": {},
   "source": [
    "The regularization has a very important role in the problem, since we want $\\mathbf{L}$ to approximate the matrix $\\mathbf{Y}$, not make it equal, but only taking into account the information from the non-missing elements. The Nuclear Norm, from other matrix norms, is appropriate here because it makes the problem a convex optimization problem (see discussion in the paper, page. 14)."
   ]
  },
  {
   "cell_type": "markdown",
   "metadata": {},
   "source": [
    "# Estimation procedure"
   ]
  },
  {
   "cell_type": "markdown",
   "metadata": {},
   "source": [
    "Athey et al. propose an iterative algorithm which may seem weird at first as a solution to the problem. But before we go there, notice the following:\n",
    "- In principle, for a complete matrix $\\mathbf{Y}$, it holds that $\\mathbf{Y} = \\mathbf{P}_{\\mathcal{O}}(\\mathbf{Y}) + \\mathbf{P}_{\\mathcal{O}}^{\\bot}(\\mathbf{Y})$.\n",
    "- However, we do not have the values for the opperation $\\mathbf{P}_{\\mathcal{O}}^{\\bot}(\\mathbf{Y})$ to work. \n",
    "- Assuming that we had some $\\mathbf{L}_k$ that approximates the missing values of $\\mathbf{Y}$ we could have  $\\mathbf{P}_{\\mathcal{O}}^{\\bot}(\\mathbf{L}_k)$ in lieu.\n",
    "- But we want to use the information in $\\mathbf{P}_{\\mathcal{O}}(\\mathbf{Y})$ to generate the approximation $\\mathbf{L}_k$. The way to do this is by the approximation using the singular value decomposition. This is carried by the function $\\mathrm{shrink}_\\lambda(\\mathbf{A})$. \n",
    "- To be clear, $\\mathrm{shrink}_\\lambda(\\mathbf{A})$ is simply a function that returns an approximated version of the matrix $\\mathbf{A}$ using a singular value decomposition by taking only the singular values larger or equal than $\\lambda$. In other words, if $\\mathbf{A}=\\mathbf{U}\\boldsymbol{\\Sigma}\\mathbf{V}^T$\n",
    "$$\n",
    "\\mathrm{shrink}_\\lambda(\\mathbf{A}) = \\mathbf{U}\\boldsymbol{\\Sigma}_{\\mathrm{reduced}}\\mathbf{V}^T,\n",
    "$$\n",
    "where $\\boldsymbol{\\Sigma}_{\\mathrm{reduced}}$ is equal to $\\boldsymbol{\\Sigma}$ except that all diagonal elements $k$ less than $\\sigma_k(\\mathbf{A})<\\lambda$ have been set to zero.\n",
    "- Now, if we initialize $\\mathbf{L}_1$ with some value, we can have an approximation for $\\mathbf{Y}$ because $\\mathbf{L}_2 = \\mathrm{shrink}_\\lambda(\\mathbf{P}_{\\mathcal{O}}(\\mathbf{Y}) + \\mathbf{P}_{\\mathcal{O}}^{\\bot}(\\mathbf{L}_1))$.\n",
    "- Maybe if we repeat this many times, it will converge to some reasonable solution such that $\\widehat{\\mathbf{L}}=\\lim_{n\\rightarrow\\infty}\\mathbf{L}_n$.\n",
    "\n",
    "I suppose they realized of this by thinking backwards. In other words, the solution $\\widehat{\\mathbf{L}}$ should satisfy the relation, for a given value of $\\lambda$: \n",
    "$$\\widehat{\\mathbf{L}} = \\mathrm{shrink}_\\lambda(\\mathbf{P}_{\\mathcal{O}}(\\mathbf{Y}) + \\mathbf{P}_{\\mathcal{O}}^{\\bot}(\\widehat{\\mathbf{L}})).$$ This is what's behind the iterative estimation algorithm. "
   ]
  },
  {
   "cell_type": "markdown",
   "metadata": {},
   "source": [
    "### The \"Matrix-Completion with Nuclear Norm Minimization\" estimator (MCNNM)"
   ]
  },
  {
   "cell_type": "markdown",
   "metadata": {},
   "source": [
    "Formally, they write it like:\n",
    "$$\n",
    "\\mathbf{L}_{k+1}(\\lambda, \\mathcal{O})=\\mathrm{shrink}_{\\frac{\\lambda |\\mathcal{O}| }{2}}\\left\\{\\mathbf{P}_{\\mathcal{O}}(\\mathbf{Y}) + \\mathbf{P}_{\\mathcal{O}}^{\\bot}(\\mathbf{L}_{k}(\\lambda, \\mathcal{O}))\\right\\}.\n",
    "$$\n"
   ]
  },
  {
   "cell_type": "markdown",
   "metadata": {},
   "source": [
    "# Python implementation"
   ]
  },
  {
   "cell_type": "code",
   "execution_count": 3,
   "metadata": {},
   "outputs": [],
   "source": [
    "# Let's begin with the P operators\n",
    "def PO_operator(Amat, setO):\n",
    "    \"\"\"\n",
    "    Set all elements that are not in setO to 0. It assumes that setO\n",
    "    comes from applying np.nonzero(A==condition) to a matrix.\n",
    "    \"\"\"\n",
    "    Anew = np.zeros_like(Amat)\n",
    "    Anew[setO] = Amat[setO]\n",
    "\n",
    "    return Anew\n",
    "\n",
    "def POcomp_operator(Amat, setO):\n",
    "    \"\"\"\n",
    "    The complement of PO_operator.\n",
    "    Set all elements that are in setO to 0. It assumes that setO\n",
    "    comes from applying np.nonzero(A==condition) to a matrix.\n",
    "    \"\"\"\n",
    "    Anew = np.copy(Amat)\n",
    "    Anew[setO] = 0\n",
    "\n",
    "    return Anew"
   ]
  },
  {
   "cell_type": "code",
   "execution_count": 4,
   "metadata": {},
   "outputs": [],
   "source": [
    "# Lets code the shrink operator\n",
    "def shrink(Amat, lamb=0, doprint=False):\n",
    "    \"\"\"\n",
    "    This generates a reduced version of A given by the singular value decomposition.\n",
    "    It only takes the singular above lamb.\n",
    "    \"\"\"\n",
    "    U, Sigma, VT = np.linalg.svd(Amat, full_matrices=False)\n",
    "    \n",
    "    if(doprint): print(Sigma)\n",
    "    \n",
    "    Sigma[Sigma < lamb] = 0\n",
    "    \n",
    "    return U@np.diag(Sigma)@VT"
   ]
  },
  {
   "cell_type": "code",
   "execution_count": 45,
   "metadata": {},
   "outputs": [],
   "source": [
    "# The loss function\n",
    "def mcnnm_loss(y_true, y_pred, setO, doprint=False):\n",
    "    Ocardinality = len(setO[0])\n",
    "    diffmat = y_true - y_pred\n",
    "    if(doprint): print(diffmat)\n",
    "    outmat = PO_operator(diffmat, setO)**2\n",
    "    return (outmat.sum().sum()/Ocardinality)**0.5"
   ]
  },
  {
   "cell_type": "code",
   "execution_count": 6,
   "metadata": {},
   "outputs": [],
   "source": [
    "# These are to create artificial treatments\n",
    "def simul_adopt(Ymat, treated_units, t0):\n",
    "    \"\"\"\n",
    "    The function assumes that t0 are integer values that go\n",
    "    from 1 to T, where T is the wide length of the matrix Ymat.\n",
    "    \"\"\"\n",
    "    Ynew = Ymat.copy()\n",
    "    Ynew[treated_units, t0:] = np.nan\n",
    "    return Ynew\n",
    "\n",
    "def stag_adopt(Ymat, treated_units, t0):\n",
    "    \"\"\"\n",
    "    Here we assume that units get treated at times \n",
    "    t after t0, chosen uniformly at random from the \n",
    "    remaining times.\n",
    "    \"\"\"\n",
    "    N, T = Ymat.shape\n",
    "    ts = np.random.choice(np.arange(t0,T), size = len(treated_units))\n",
    "    Ynew = Ymat.copy()\n",
    "    for i, unit in enumerate(treated_units):\n",
    "        Ynew[unit,ts[i]:] = np.nan\n",
    "    return Ynew\n",
    "    "
   ]
  },
  {
   "cell_type": "code",
   "execution_count": 46,
   "metadata": {},
   "outputs": [],
   "source": [
    "# The \"Matrix-Completion with Nuclear Norm Minimization\" estimator\n",
    "from sklearn.base import BaseEstimator, TransformerMixin\n",
    "class MatrixCompletion_NNM(BaseEstimator, TransformerMixin):\n",
    "    \"\"\"\n",
    "    This implements the iterative procedure to estimate L. \n",
    "    Since L is really the matrix Y, but with the missing values\n",
    "    imputed, we chose the Transformer 'Mixin'.\n",
    "\n",
    "    Parameters\n",
    "    ----------\n",
    "    setOk : array-like\n",
    "        This comes, for example, from applying np.nonzero(A==condition) to a matrix\n",
    "    \n",
    "    missing_values : number, string, np.nan (default) or None\n",
    "        The placeholder for the missing values. All occurrences of\n",
    "        `missing_values` will be imputed.\n",
    "        \n",
    "    lamb : int (default=0)\n",
    "        This is the regularization parameter, which should be non-negative since\n",
    "        it is a minimization procedure.\n",
    "        \n",
    "    epsilon : float (default=0.001)\n",
    "        Desired accuracy of the estimation.\n",
    "    \n",
    "    max_iters : integer (default=100)\n",
    "    \n",
    "    doprint : boolean, optional (default=False)\n",
    "        Prints different results of the estimation steps.\n",
    "        \n",
    "    printbatch : integer, optional if doprint==True (default=10)\n",
    "        After how many iterations to print the loss function.\n",
    "        \n",
    "    copy : boolean, optional, default True\n",
    "        Set to False to perform inplace row normalization and avoid a\n",
    "        copy (if the input is already a numpy array).\n",
    "    \n",
    "\n",
    "    Attributes\n",
    "    ----------\n",
    "    Lest_ : array-like, shape (N, T)\n",
    "        This is the estimate of L.\n",
    "    \n",
    "    loss_ : float\n",
    "        The root-square of the mean square error of the observed elements.\n",
    "        \n",
    "    iters_ : int\n",
    "        Number of iterations it took the algorithm to get the desired\n",
    "        precision given by the parameter 'epsilon'.\n",
    "        \n",
    "    Examples\n",
    "    --------\n",
    "    >>> import numpy as np\n",
    "    >>> data = np.array([[1,2,np.nan, 0],[np.nan,2,2,1],[3,0,1,3],[0,0,2,np.nan]])\n",
    "    >>> observedset = np.nonzero(~np.isnan(data))\n",
    "    >>> my_mcnnm = MatrixCompletion_NNM(setOk=observedset, lamb=2.5, epsilon=10**(-6), doprint=False)\n",
    "    >>> print(data)\n",
    "    [[  1.   2.  nan   0.]\n",
    "    [ nan   2.   2.   1.]\n",
    "    [  3.   0.   1.   3.]\n",
    "    [  0.   0.   2.  nan]]\n",
    "    >>> print(my_mcnnm.fit(data))\n",
    "    MatrixCompletion_NNM(copy=True, doprint=False, epsilon=1e-06, lamb=2.5,\n",
    "               max_iters=100, printbatch=10,\n",
    "               setOk=(array([0, 0, 0, 1, 1, 1, 2, 2, 2, 2, 3, 3, 3], dtype=int64), \n",
    "               array([0, 1, 3, 1, 2, 3, 0, 1, 2, 3, 0, 1, 2], dtype=int64)))\n",
    "    >>> print(my_mcnnm.transform(data))\n",
    "    [[ 0.98082397  2.00915981  3.49022202  0.01813745]\n",
    "     [ 1.55601129  1.33063721  2.38547663  0.97025289]\n",
    "     [ 3.00567286  0.33134019  0.80761928  3.00948113]\n",
    "     [ 0.0419737   0.87320627  1.48553996 -0.39839039]]\n",
    "    >>> print(my_mcnnm.fit_transform(data))\n",
    "    [[ 0.98082397  2.00915981  3.49022202  0.01813745]\n",
    "     [ 1.55601129  1.33063721  2.38547663  0.97025289]\n",
    "     [ 3.00567286  0.33134019  0.80761928  3.00948113]\n",
    "     [ 0.0419737   0.87320627  1.48553996 -0.39839039]]\n",
    "    >>> print(my_mcnnm.transform([[7, 2, 3], [4, np.nan, 6], [10, 5, 9]]))\n",
    "    [[ 0.98082397  2.00915981  3.49022202  0.01813745]\n",
    "     [ 1.55601129  1.33063721  2.38547663  0.97025289]\n",
    "     [ 3.00567286  0.33134019  0.80761928  3.00948113]\n",
    "     [ 0.0419737   0.87320627  1.48553996 -0.39839039]]\n",
    "    \n",
    "    Notes\n",
    "    -----\n",
    "    \n",
    "    \n",
    "    \"\"\"\n",
    "    \n",
    "\n",
    "    def __init__(self, setOk=None, #missing_values=np.nan, \n",
    "                 lamb=0, epsilon=0.001, max_iters=100, \n",
    "                 doprint=False, printbatch=10, copy=True):\n",
    "        self.setOk = setOk \n",
    "        #self.missing_values = missing_values \n",
    "        self.lamb = lamb \n",
    "        self.epsilon = epsilon \n",
    "        self.max_iters = max_iters \n",
    "        self.doprint = doprint \n",
    "        self.printbatch = printbatch\n",
    "        self.copy = copy\n",
    "\n",
    "    def fit(self, X, y=None):\n",
    "        \"\"\"Fit the estimator to the matrix X (which is \n",
    "        really the matrix Y in Athey et al.'s paper).\n",
    "        \n",
    "        Parameters\n",
    "        ----------\n",
    "        X : {array-like, sparse matrix}, shape (n_samples, n_features)\n",
    "            The training input samples.\n",
    "        y : Ignored\n",
    "            There is no need of a target in a transformer, yet the pipeline API\n",
    "            requires this parameter.\n",
    "            \n",
    "        Returns\n",
    "        -------\n",
    "        self : object\n",
    "            Returns self.\n",
    "        \"\"\"\n",
    "        \n",
    "        # First, I should check that the missing values are right\n",
    "        #Ynew = np.zeros_like(self.Ymat)\n",
    "        #Ynew = self.missing_values\n",
    "        #Ynew[self.setOk] = self.Ymat[self.setOk]\n",
    "\n",
    "        assert (len(self.setOk) > 0), \"setOk should be a non-empty array\"\n",
    "        assert (self.lamb > 0), \"lamb is the lambda parameter which should be larger than zero\"\n",
    "\n",
    "        N, T = X.shape\n",
    "\n",
    "        # Initialize L to the observed (non-missing) values of Y given by the set setOk\n",
    "        Lprev = PO_operator(X, self.setOk)\n",
    "\n",
    "        # Initialization of error with a highvalue and the iteration\n",
    "        error = N*T*10**3\n",
    "        iteration = 0\n",
    "\n",
    "        while((error > self.epsilon) and (iteration < self.max_iters)):\n",
    "            Lnext = shrink(PO_operator(X, self.setOk) + \n",
    "                           POcomp_operator(Lprev, self.setOk), lamb = self.lamb)\n",
    "\n",
    "            # Updating values\n",
    "            Lprev = Lnext.copy()\n",
    "            error = mcnnm_loss(X, Lprev, self.setOk)\n",
    "            iteration = iteration + 1\n",
    "\n",
    "            if(self.doprint and (iteration%self.printbatch==0 or iteration==1)):\n",
    "                print(\"Iteration {}\\t Current loss: {}\".format(iteration, error))\n",
    "\n",
    "        if(self.doprint):\n",
    "            print(\"\")\n",
    "            print(\"Final values:\")\n",
    "            print(\"Iteration {}\\t Current loss: {}\".format(iteration, error))\n",
    "            print(\"\")\n",
    "            print(X)\n",
    "            print(np.round(Lnext, 2))\n",
    "        \n",
    "        self.iters_ = iteration\n",
    "        self.loss_ = error\n",
    "        self.Lest_ = Lnext\n",
    "        \n",
    "        # Return the transformer\n",
    "        return self\n",
    "\n",
    "    def transform(self, X):\n",
    "        \"\"\" \n",
    "        Actually returning the estimated matrix, in which we have \n",
    "        imputed the missing values of X (matrix Y).\n",
    "        \n",
    "        Parameters\n",
    "        ----------\n",
    "        X : {array-like, sparse-matrix}, shape (N, T)\n",
    "            The input data to complete.\n",
    "            \n",
    "        Returns\n",
    "        -------\n",
    "        X_transformed : array, shape (N, T)\n",
    "            The array the completed matrix.\n",
    "        \"\"\"\n",
    "        try:\n",
    "            getattr(self, \"Lest_\")\n",
    "        except AttributeError:\n",
    "            raise RuntimeError(\"You must estimate the model before transforming the data!\")\n",
    "        \n",
    "        return self.Lest_"
   ]
  },
  {
   "cell_type": "code",
   "execution_count": 47,
   "metadata": {},
   "outputs": [
    {
     "name": "stdout",
     "output_type": "stream",
     "text": [
      "[[ 1.  2. nan  0.]\n",
      " [nan  2.  2.  1.]\n",
      " [ 3.  0.  1.  3.]\n",
      " [ 0.  0.  2. nan]]\n",
      "MatrixCompletion_NNM(copy=True, doprint=False, epsilon=1e-06, lamb=2.5,\n",
      "           max_iters=100, printbatch=10,\n",
      "           setOk=(array([0, 0, 0, 1, 1, 1, 2, 2, 2, 2, 3, 3, 3], dtype=int64), array([0, 1, 3, 1, 2, 3, 0, 1, 2, 3, 0, 1, 2], dtype=int64)))\n",
      "[[ 0.98082397  2.00915981  3.49022202  0.01813745]\n",
      " [ 1.55601129  1.33063721  2.38547663  0.97025289]\n",
      " [ 3.00567286  0.33134019  0.80761928  3.00948113]\n",
      " [ 0.0419737   0.87320627  1.48553996 -0.39839039]]\n",
      "[[ 0.98082397  2.00915981  3.49022202  0.01813745]\n",
      " [ 1.55601129  1.33063721  2.38547663  0.97025289]\n",
      " [ 3.00567286  0.33134019  0.80761928  3.00948113]\n",
      " [ 0.0419737   0.87320627  1.48553996 -0.39839039]]\n",
      "[[ 0.98082397  2.00915981  3.49022202  0.01813745]\n",
      " [ 1.55601129  1.33063721  2.38547663  0.97025289]\n",
      " [ 3.00567286  0.33134019  0.80761928  3.00948113]\n",
      " [ 0.0419737   0.87320627  1.48553996 -0.39839039]]\n"
     ]
    }
   ],
   "source": [
    "data = np.array([[1,2,np.nan, 0],[np.nan,2,2,1],[3,0,1,3],[0,0,2,np.nan]])\n",
    "observedset = np.nonzero(~np.isnan(data))\n",
    "\n",
    "my_mcnnm = MatrixCompletion_NNM(setOk=observedset, lamb=2.5, epsilon=10**(-6), doprint=False)\n",
    "\n",
    "#print(my_mcnnm.transform(data))\n",
    "\n",
    "print(data)\n",
    "\n",
    "print(my_mcnnm.fit(data))\n",
    "\n",
    "myLest = my_mcnnm.transform(data)\n",
    "print(myLest)\n",
    "\n",
    "print(my_mcnnm.fit_transform(data))\n",
    "\n",
    "print(my_mcnnm.transform([[7, 2, 3], [4, np.nan, 6], [10, 5, 9]]))"
   ]
  },
  {
   "cell_type": "markdown",
   "metadata": {},
   "source": [
    "# More complicated example"
   ]
  },
  {
   "cell_type": "code",
   "execution_count": 110,
   "metadata": {},
   "outputs": [
    {
     "name": "stdout",
     "output_type": "stream",
     "text": [
      "[[11.10328107 10.6648671  10.57180318 12.44890752 11.39709621 10.73603842\n",
      "  13.21498354 16.19970787 10.61622969  9.66535008  8.55253032  9.1258884\n",
      "  14.40253861  9.01607998  6.94348485  5.51480246  7.28822193  5.23866253\n",
      "   6.90079247  3.88965889]\n",
      " [21.88890948 11.26072961 10.29541941 10.1286228  12.79766947 10.82702714\n",
      "  17.6122818  13.06012541 10.97316879  9.5206277   8.21511212  9.00004526\n",
      "   8.55465696 12.82918008  5.91122296  5.18522737  5.89082523  6.06316366\n",
      "   7.98973347  2.85037117]\n",
      " [17.77563759 10.34620198 11.35326824 12.25000737 13.44681873  9.0891511\n",
      "  11.15909003 22.55299747  8.10691117 10.79262544  9.02163773  8.12702123\n",
      "   8.22280831  6.35291672  5.84053829  7.72387347  7.85128493  6.46203566\n",
      "   9.22707783  7.7270509 ]\n",
      " [15.2147294  11.2093389  12.14782555 15.44723685  9.64785691 12.5062235\n",
      "   8.29841629  8.53004749  8.04697099 13.92129237 15.43161333  7.03545896\n",
      "   7.21498055  5.82608469 10.53379929  6.52167672  4.75697224  8.11821437\n",
      "  20.78094771  5.10830387]\n",
      " [ 9.52348628  8.95221538 12.07090728  9.91254253  9.84730408  8.10823486\n",
      "   9.36773651 11.08853351  6.84179353  7.53769926  8.46929352  7.9833121\n",
      "   5.81892279 12.47130193  5.97260156  8.41488008 11.45690951  3.90397935\n",
      "   4.93495634  1.96953443]\n",
      " [ 8.72694301  8.13180309 10.55138339 11.53632512 11.41207622 18.5416557\n",
      "   7.19080729  7.48316184  7.47332064  7.29498854  7.17944472  7.94544098\n",
      "   8.10235371  7.59952749 10.06405092  5.45220752  5.85434651  5.89488396\n",
      "   4.40670464  8.10229337]\n",
      " [ 7.81902977 10.81347918  9.48787907  8.95411302  6.71917279 13.35617221\n",
      "  13.50407265  6.06217271 10.03789576 10.3400107   6.84714801  7.06573067\n",
      "   8.07502493  4.36457402  5.02646321  4.67899621 10.98982934  3.793435\n",
      "   9.22523374  9.20743751]\n",
      " [11.6175803   6.2054033   5.96139417  5.88790924  5.84161805 12.07509932\n",
      "   8.17204359  6.8440686   8.81592306  7.08803441  7.22555726  8.88650669\n",
      "   6.13406239  6.15462111  4.15862062  6.37164158  3.56642471  5.4580761\n",
      "   5.15174575  2.29627007]\n",
      " [ 5.84221427  6.78405974 10.45956196  6.19514392 10.36033197  6.93605285\n",
      "   7.00998471  3.96814743  6.36566054  5.83187993  8.03692905 16.86103267\n",
      "   4.96764418  4.3024804   3.56170653  7.96363152  2.5075037   4.29159833\n",
      "   3.37802737  2.1321311 ]\n",
      " [ 5.50172249  4.01996341  3.74759091 10.51724941  7.06399573  5.49264959\n",
      "   4.40485005  4.49972509 19.40527797  3.41708564  5.87445596  6.03701614\n",
      "   6.23107646  5.39200769  5.8310882   2.649231    5.995086    5.56550596\n",
      "   3.22038087  7.31611845]]\n"
     ]
    },
    {
     "data": {
      "image/png": "[encoded data removed]",
      "text/plain": [
       "<Figure size 432x288 with 1 Axes>"
      ]
     },
     "metadata": {
      "needs_background": "light"
     },
     "output_type": "display_data"
    }
   ],
   "source": [
    "# I set up a matrix full of values, with some order (in order to be predictable)\n",
    "N, T = (10, 20)\n",
    "Yreal = np.array([[np.random.exponential(scale = 3, size = 1)[0] + ((T-j)**0.5)*np.log(N-i+1) for j in np.arange(T)] for i in np.arange(N)])\n",
    "print(Yreal)\n",
    "plt.imshow(Yreal, cmap=plt.cm.gray);"
   ]
  },
  {
   "cell_type": "code",
   "execution_count": 111,
   "metadata": {},
   "outputs": [],
   "source": [
    "# specifying the units treated, and the earliest time of treatment\n",
    "tr_units = np.arange(int(N/3),N)\n",
    "t0 = int(T/2)"
   ]
  },
  {
   "cell_type": "code",
   "execution_count": 112,
   "metadata": {},
   "outputs": [
    {
     "name": "stdout",
     "output_type": "stream",
     "text": [
      "[[11.10328107 10.6648671  10.57180318 12.44890752 11.39709621 10.73603842\n",
      "  13.21498354 16.19970787 10.61622969  9.66535008  8.55253032  9.1258884\n",
      "  14.40253861  9.01607998  6.94348485  5.51480246  7.28822193  5.23866253\n",
      "   6.90079247  3.88965889]\n",
      " [21.88890948 11.26072961 10.29541941 10.1286228  12.79766947 10.82702714\n",
      "  17.6122818  13.06012541 10.97316879  9.5206277   8.21511212  9.00004526\n",
      "   8.55465696 12.82918008  5.91122296  5.18522737  5.89082523  6.06316366\n",
      "   7.98973347  2.85037117]\n",
      " [17.77563759 10.34620198 11.35326824 12.25000737 13.44681873  9.0891511\n",
      "  11.15909003 22.55299747  8.10691117 10.79262544  9.02163773  8.12702123\n",
      "   8.22280831  6.35291672  5.84053829  7.72387347  7.85128493  6.46203566\n",
      "   9.22707783  7.7270509 ]\n",
      " [15.2147294  11.2093389  12.14782555 15.44723685  9.64785691 12.5062235\n",
      "   8.29841629  8.53004749  8.04697099 13.92129237 15.43161333  7.03545896\n",
      "   7.21498055  5.82608469 10.53379929  6.52167672  4.75697224  8.11821437\n",
      "  20.78094771         nan]\n",
      " [ 9.52348628  8.95221538 12.07090728  9.91254253  9.84730408  8.10823486\n",
      "   9.36773651 11.08853351  6.84179353  7.53769926  8.46929352  7.9833121\n",
      "   5.81892279 12.47130193  5.97260156  8.41488008 11.45690951  3.90397935\n",
      "          nan         nan]\n",
      " [ 8.72694301  8.13180309 10.55138339 11.53632512 11.41207622 18.5416557\n",
      "   7.19080729  7.48316184  7.47332064  7.29498854  7.17944472  7.94544098\n",
      "   8.10235371         nan         nan         nan         nan         nan\n",
      "          nan         nan]\n",
      " [ 7.81902977 10.81347918  9.48787907  8.95411302  6.71917279 13.35617221\n",
      "  13.50407265  6.06217271 10.03789576 10.3400107   6.84714801  7.06573067\n",
      "          nan         nan         nan         nan         nan         nan\n",
      "          nan         nan]\n",
      " [11.6175803   6.2054033   5.96139417  5.88790924  5.84161805 12.07509932\n",
      "   8.17204359  6.8440686   8.81592306  7.08803441  7.22555726  8.88650669\n",
      "   6.13406239  6.15462111  4.15862062  6.37164158  3.56642471         nan\n",
      "          nan         nan]\n",
      " [ 5.84221427  6.78405974 10.45956196  6.19514392 10.36033197  6.93605285\n",
      "   7.00998471  3.96814743  6.36566054  5.83187993  8.03692905 16.86103267\n",
      "   4.96764418  4.3024804   3.56170653  7.96363152  2.5075037   4.29159833\n",
      "   3.37802737         nan]\n",
      " [ 5.50172249  4.01996341  3.74759091 10.51724941  7.06399573  5.49264959\n",
      "   4.40485005  4.49972509 19.40527797  3.41708564  5.87445596  6.03701614\n",
      "          nan         nan         nan         nan         nan         nan\n",
      "          nan         nan]]\n"
     ]
    },
    {
     "data": {
      "image/png": "[encoded data removed]",
      "text/plain": [
       "<Figure size 432x288 with 1 Axes>"
      ]
     },
     "metadata": {
      "needs_background": "light"
     },
     "output_type": "display_data"
    }
   ],
   "source": [
    "Yobs = stag_adopt(Yreal, tr_units, t0)\n",
    "\n",
    "print(Yobs)\n",
    "plt.imshow(Yobs, cmap=plt.cm.gray);"
   ]
  },
  {
   "cell_type": "code",
   "execution_count": 113,
   "metadata": {},
   "outputs": [
    {
     "name": "stdout",
     "output_type": "stream",
     "text": [
      "Iteration 1\t Current loss: 1.556848317504585\n",
      "Iteration 20\t Current loss: 0.006358421149145352\n",
      "Iteration 40\t Current loss: 1.0369413036351632e-05\n",
      "\n",
      "Final values:\n",
      "Iteration 48\t Current loss: 7.934622625365779e-07\n",
      "\n",
      "[[11.10328107 10.6648671  10.57180318 12.44890752 11.39709621 10.73603842\n",
      "  13.21498354 16.19970787 10.61622969  9.66535008  8.55253032  9.1258884\n",
      "  14.40253861  9.01607998  6.94348485  5.51480246  7.28822193  5.23866253\n",
      "   6.90079247  3.88965889]\n",
      " [21.88890948 11.26072961 10.29541941 10.1286228  12.79766947 10.82702714\n",
      "  17.6122818  13.06012541 10.97316879  9.5206277   8.21511212  9.00004526\n",
      "   8.55465696 12.82918008  5.91122296  5.18522737  5.89082523  6.06316366\n",
      "   7.98973347  2.85037117]\n",
      " [17.77563759 10.34620198 11.35326824 12.25000737 13.44681873  9.0891511\n",
      "  11.15909003 22.55299747  8.10691117 10.79262544  9.02163773  8.12702123\n",
      "   8.22280831  6.35291672  5.84053829  7.72387347  7.85128493  6.46203566\n",
      "   9.22707783  7.7270509 ]\n",
      " [15.2147294  11.2093389  12.14782555 15.44723685  9.64785691 12.5062235\n",
      "   8.29841629  8.53004749  8.04697099 13.92129237 15.43161333  7.03545896\n",
      "   7.21498055  5.82608469 10.53379929  6.52167672  4.75697224  8.11821437\n",
      "  20.78094771         nan]\n",
      " [ 9.52348628  8.95221538 12.07090728  9.91254253  9.84730408  8.10823486\n",
      "   9.36773651 11.08853351  6.84179353  7.53769926  8.46929352  7.9833121\n",
      "   5.81892279 12.47130193  5.97260156  8.41488008 11.45690951  3.90397935\n",
      "          nan         nan]\n",
      " [ 8.72694301  8.13180309 10.55138339 11.53632512 11.41207622 18.5416557\n",
      "   7.19080729  7.48316184  7.47332064  7.29498854  7.17944472  7.94544098\n",
      "   8.10235371         nan         nan         nan         nan         nan\n",
      "          nan         nan]\n",
      " [ 7.81902977 10.81347918  9.48787907  8.95411302  6.71917279 13.35617221\n",
      "  13.50407265  6.06217271 10.03789576 10.3400107   6.84714801  7.06573067\n",
      "          nan         nan         nan         nan         nan         nan\n",
      "          nan         nan]\n",
      " [11.6175803   6.2054033   5.96139417  5.88790924  5.84161805 12.07509932\n",
      "   8.17204359  6.8440686   8.81592306  7.08803441  7.22555726  8.88650669\n",
      "   6.13406239  6.15462111  4.15862062  6.37164158  3.56642471         nan\n",
      "          nan         nan]\n",
      " [ 5.84221427  6.78405974 10.45956196  6.19514392 10.36033197  6.93605285\n",
      "   7.00998471  3.96814743  6.36566054  5.83187993  8.03692905 16.86103267\n",
      "   4.96764418  4.3024804   3.56170653  7.96363152  2.5075037   4.29159833\n",
      "   3.37802737         nan]\n",
      " [ 5.50172249  4.01996341  3.74759091 10.51724941  7.06399573  5.49264959\n",
      "   4.40485005  4.49972509 19.40527797  3.41708564  5.87445596  6.03701614\n",
      "          nan         nan         nan         nan         nan         nan\n",
      "          nan         nan]]\n",
      "[[-2.900e-01 -6.000e-02  2.800e-01  1.620e+00  3.000e-02 -2.100e-01\n",
      "   1.080e+00  8.400e-01 -1.320e+00  9.670e+00  0.000e+00  2.800e-01\n",
      "   1.250e+00  9.020e+00  6.940e+00  5.510e+00 -2.120e+00  0.000e+00\n",
      "   8.500e-01  1.020e+00]\n",
      " [-1.500e-01  2.100e-01  6.000e-02  1.013e+01  2.700e-01  3.700e-01\n",
      "  -4.090e+00  2.300e-01  8.500e-01 -4.600e-01  0.000e+00 -7.600e-01\n",
      "  -7.500e-01  3.310e+00  5.910e+00  5.190e+00  1.500e+00  0.000e+00\n",
      "  -5.100e-01  2.850e+00]\n",
      " [ 1.380e+00 -3.000e-01 -5.200e-01  6.700e-01 -1.020e+00 -6.100e-01\n",
      "   4.150e+00  2.255e+01  8.110e+00 -4.500e-01  0.000e+00  8.130e+00\n",
      "  -4.000e-01  2.700e-01  5.840e+00  4.500e-01  2.200e-01  0.000e+00\n",
      "  -2.700e-01  1.600e-01]\n",
      " [ 2.400e-01 -7.000e-02 -3.700e-01 -9.000e-01 -4.000e-02  1.400e-01\n",
      "   5.830e+00 -4.600e-01  7.300e-01  1.392e+01  0.000e+00 -2.510e+00\n",
      "  -9.500e-01  4.510e+00  2.020e+00 -1.850e+00  1.440e+00  0.000e+00\n",
      "  -6.400e-01 -6.300e-01]\n",
      " [-3.100e-01  8.950e+00  1.207e+01  9.910e+00  1.400e-01 -3.000e-02\n",
      "   1.360e+00  5.900e-01  6.840e+00  3.900e-01  0.000e+00 -9.100e-01\n",
      "   5.400e-01 -1.970e+00 -6.400e-01  1.390e+00  1.146e+01  0.000e+00\n",
      "   3.700e-01  4.200e-01]\n",
      " [-3.480e+00  5.100e-01  9.900e-01 -1.200e+00  2.470e+00  1.320e+00\n",
      "   2.230e+00  8.590e+00 -4.100e-01 -2.560e+00  0.000e+00  7.950e+00\n",
      "   1.090e+00  5.100e-01  2.060e+00 -3.600e-01 -1.080e+00  0.000e+00\n",
      "   7.400e-01 -1.200e-01]\n",
      " [ 1.020e+00 -2.200e-01 -3.600e-01  4.700e-01  6.720e+00  1.336e+01\n",
      "   1.500e+00 -1.800e+00  3.200e-01  5.000e-02  0.000e+00  3.620e+00\n",
      "  -2.500e-01 -9.000e-02 -2.700e-01  3.100e-01  1.000e-01  0.000e+00\n",
      "  -1.700e-01  1.300e-01]\n",
      " [ 1.162e+01  1.800e-01  3.000e-01 -4.100e-01  6.700e-01  1.208e+01\n",
      "  -1.400e+00  1.550e+00  8.820e+00 -2.000e-02  0.000e+00 -3.150e+00\n",
      "   2.100e-01  4.000e-02  2.400e-01  6.370e+00 -8.000e-02  0.000e+00\n",
      "   1.400e-01 -1.100e-01]\n",
      " [ 6.500e-01  6.780e+00  1.046e+01 -7.700e-01 -3.700e-01 -9.000e-02\n",
      "  -9.900e-01 -1.270e+00  9.100e-01 -7.500e-01  0.000e+00  1.880e+00\n",
      "   4.970e+00  4.300e+00  9.300e-01  7.960e+00  1.300e+00  0.000e+00\n",
      "   3.380e+00 -5.500e-01]\n",
      " [-1.290e+00  6.300e-01  8.000e-01 -2.220e+00  1.010e+00  6.600e-01\n",
      "   4.400e+00  4.500e+00  1.100e+00  3.420e+00  0.000e+00  2.730e+00\n",
      "  -1.400e-01 -2.300e-01 -2.900e-01 -2.950e+00  1.100e+00  0.000e+00\n",
      "  -1.000e-01 -9.600e-01]]\n",
      "[[-2.86649118e-01 -6.07720760e-02  2.79647732e-01  1.62189219e+00\n",
      "   3.27593813e-02 -2.06305928e-01  1.08496512e+00  8.38502116e-01\n",
      "  -1.32339096e+00  9.66535034e+00  0.00000000e+00  2.81615782e-01\n",
      "   1.25410067e+00  9.01607959e+00  6.94348475e+00  5.51480273e+00\n",
      "  -2.11696980e+00  0.00000000e+00  8.52795856e-01  1.01537410e+00]\n",
      " [-1.45293209e-01  2.08630212e-01  5.92559401e-02  1.01286226e+01\n",
      "   2.71447591e-01  3.68579624e-01 -4.09299256e+00  2.31985743e-01\n",
      "   8.48657186e-01 -4.60066104e-01  0.00000000e+00 -7.59679624e-01\n",
      "  -7.53790387e-01  3.30979458e+00  5.91122279e+00  5.18522696e+00\n",
      "   1.49827189e+00  0.00000000e+00 -5.12581912e-01  2.85037109e+00]\n",
      " [ 1.37992645e+00 -3.01032888e-01 -5.15308306e-01  6.70012883e-01\n",
      "  -1.02287566e+00 -6.07496512e-01  4.14847893e+00  2.25529973e+01\n",
      "   8.10691122e+00 -4.54387044e-01  0.00000000e+00  8.12702122e+00\n",
      "  -3.96219478e-01  2.66524193e-01  5.84053843e+00  4.48363827e-01\n",
      "   2.21965117e-01  0.00000000e+00 -2.69431584e-01  1.61298920e-01]\n",
      " [ 2.38722957e-01 -7.15818958e-02 -3.66539783e-01 -9.00689857e-01\n",
      "  -4.34435791e-02  1.44586337e-01  5.82595691e+00 -4.56219030e-01\n",
      "   7.29019649e-01  1.39212917e+01  0.00000000e+00 -2.50608038e+00\n",
      "  -9.46685467e-01  4.50858906e+00  2.01736479e+00 -1.84597533e+00\n",
      "   1.44357431e+00  0.00000000e+00 -6.43751705e-01 -6.27190198e-01]\n",
      " [-3.09982058e-01  8.95221534e+00  1.20709072e+01  9.91254260e+00\n",
      "   1.38736194e-01 -3.21830834e-02  1.35601304e+00  5.87240362e-01\n",
      "   6.84179351e+00  3.85470937e-01  0.00000000e+00 -9.10224516e-01\n",
      "   5.38748270e-01 -1.97418214e+00 -6.41756999e-01  1.38767752e+00\n",
      "   1.14569095e+01  0.00000000e+00  3.66352003e-01  4.20895661e-01]\n",
      " [-3.47834092e+00  5.06202534e-01  9.85929952e-01 -1.20385136e+00\n",
      "   2.47351011e+00  1.31857730e+00  2.22868701e+00  8.58980522e+00\n",
      "  -4.14627456e-01 -2.55584335e+00  0.00000000e+00  7.94544076e+00\n",
      "   1.08981723e+00  5.07814789e-01  2.06070470e+00 -3.62180792e-01\n",
      "  -1.08088039e+00  0.00000000e+00  7.41082151e-01 -1.22600834e-01]\n",
      " [ 1.01622020e+00 -2.16339661e-01 -3.61198028e-01  4.66484697e-01\n",
      "   6.71917272e+00  1.33561722e+01  1.49697658e+00 -1.79952700e+00\n",
      "   3.23928753e-01  5.02925507e-02  0.00000000e+00  3.61618360e+00\n",
      "  -2.50873701e-01 -9.26709962e-02 -2.74050483e-01  3.14867593e-01\n",
      "   9.87452833e-02  0.00000000e+00 -1.70595597e-01  1.26352961e-01]\n",
      " [ 1.16175802e+01  1.76618799e-01  2.96812474e-01 -4.06166177e-01\n",
      "   6.70013881e-01  1.20750994e+01 -1.40373758e+00  1.55371195e+00\n",
      "   8.81592302e+00 -1.92925050e-02  0.00000000e+00 -3.14647245e+00\n",
      "   2.09283062e-01  3.53492550e-02  2.40740979e-01  6.37164153e+00\n",
      "  -8.34150082e-02  0.00000000e+00  1.42313718e-01 -1.09670824e-01]\n",
      " [ 6.45897707e-01  6.78405976e+00  1.04595620e+01 -7.71818926e-01\n",
      "  -3.74925210e-01 -9.34266564e-02 -9.92231843e-01 -1.27177959e+00\n",
      "   9.12572164e-01 -7.49648203e-01  0.00000000e+00  1.88241254e+00\n",
      "   4.96764418e+00  4.30248058e+00  9.30710574e-01  7.96363134e+00\n",
      "   1.29767786e+00  0.00000000e+00  3.37802736e+00 -5.52484848e-01]\n",
      " [-1.29123339e+00  6.29698333e-01  7.97496857e-01 -2.22331961e+00\n",
      "   1.00958752e+00  6.58123180e-01  4.40484609e+00  4.49972602e+00\n",
      "   1.10355721e+00  3.41708755e+00  0.00000000e+00  2.72906028e+00\n",
      "  -1.41913533e-01 -2.25419385e-01 -2.88662351e-01 -2.94923642e+00\n",
      "   1.09722636e+00  0.00000000e+00 -9.65020398e-02 -9.62723053e-01]]\n"
     ]
    },
    {
     "data": {
      "image/png": "[encoded data removed]",
      "text/plain": [
       "<Figure size 432x288 with 1 Axes>"
      ]
     },
     "metadata": {
      "needs_background": "light"
     },
     "output_type": "display_data"
    }
   ],
   "source": [
    "# getting the treat unit-times\n",
    "observedset = np.argwhere(~np.isnan(Yobs))\n",
    "o_idx = np.random.choice(list(range(observedset.shape[0])), size = int(observedset.shape[0]/5), replace=False)\n",
    "\n",
    "# Initializing the MC-NNM object\n",
    "my_mcnnm = MatrixCompletion_NNM(setOk=tuple(observedset[o_idx].T), \n",
    "                                lamb=10, epsilon=10**(-6), doprint=True, max_iters=200, printbatch=20)\n",
    "\n",
    "# Fitting (/transforming)\n",
    "Lest = my_mcnnm.fit_transform(Yobs)\n",
    "\n",
    "print(Lest)\n",
    "plt.imshow(Lest, cmap=plt.cm.gray);"
   ]
  },
  {
   "cell_type": "code",
   "execution_count": 115,
   "metadata": {},
   "outputs": [
    {
     "data": {
      "text/plain": [
       "8.669331008634215"
      ]
     },
     "execution_count": 115,
     "metadata": {},
     "output_type": "execute_result"
    }
   ],
   "source": [
    "# total loss on the full sample\n",
    "mcnnm_loss(Yreal, Lest, tuple(observedset.T))"
   ]
  },
  {
   "cell_type": "code",
   "execution_count": 116,
   "metadata": {},
   "outputs": [
    {
     "name": "stdout",
     "output_type": "stream",
     "text": [
      "[2.97205741e+01 2.62459518e+01 2.18879134e+01 2.14571653e+01\n",
      " 1.61319666e+01 1.45697133e+01 1.29247231e+01 2.12134359e-15\n",
      " 1.54409409e-15 7.58049933e-16]\n",
      "15.350839929591562\n"
     ]
    }
   ],
   "source": [
    "U, Sigma, VT = np.linalg.svd(Lest, full_matrices=False)\n",
    "print(Sigma)\n",
    "print(np.median(Sigma))"
   ]
  },
  {
   "cell_type": "markdown",
   "metadata": {},
   "source": [
    "## Cross-validation"
   ]
  },
  {
   "cell_type": "markdown",
   "metadata": {},
   "source": [
    "The typical strategy of cross-validation is to split the rows of the data (X,y) to have specific folds (X_k, y_k) which are used to fit the model, and are then evaluated on the left-out fold (X_k', y_k').\n",
    "\n",
    "In this case, it is a bit different, because the prediction is the matrix itself."
   ]
  },
  {
   "cell_type": "markdown",
   "metadata": {},
   "source": [
    "The approximation, and as a consequence the estimate, will depend on the value of $\\lambda$. As a hyper-parameter, we will choose its value through cross-validation.\n",
    "\n",
    "Athey et al. propose to use some sort of $K$-fold cross-validation, and choose $K$ such that \n",
    "$$\\left|\\mathcal{O}_k\\right|/\\left|\\mathcal{O}\\right| = \\left|\\mathcal{O}\\right|/(NT).$$\n",
    "That is, such that the fraction of non-missing values in a given validation set $\\mathcal{O}_k$ is equal to the fraction of non-missing values in the original matrix. We will do this making use of Grid Search. \n",
    "\n",
    "This obviously assumes that we have access to the real matrix in which we can actually observe the supposed ''missing'' values. "
   ]
  },
  {
   "cell_type": "code",
   "execution_count": 37,
   "metadata": {},
   "outputs": [],
   "source": [
    "from sklearn.model_selection import KFold\n",
    "from sklearn.model_selection import GridSearchCV\n",
    "from sklearn.metrics import make_scorer"
   ]
  },
  {
   "cell_type": "code",
   "execution_count": 188,
   "metadata": {},
   "outputs": [],
   "source": [
    "def mcnnm_kfold_CV(Yreal, Yobs, observedset, lambda_cv, num_splits=10):\n",
    "    kfold = KFold(n_splits=num_splits, shuffle=True)\n",
    "    vec_errors = np.zeros(num_splits)\n",
    "    for i, train_test_tuple in enumerate(kfold.split(observedset)):\n",
    "        O_train_i = tuple(observedset[train_test_tuple[0]].T)\n",
    "        O_valid_i = tuple(observedset[train_test_tuple[1]].T)\n",
    "\n",
    "        # Initializing the MC-NNM object\n",
    "        my_mcnnm_i = MatrixCompletion_NNM(setOk=O_train_i, \n",
    "                                    lamb=lambda_cv, epsilon=10**(-6))\n",
    "\n",
    "        # Fitting (/transforming)\n",
    "        Lest = my_mcnnm_i.fit_transform(Yobs)\n",
    "\n",
    "        # Error on validation set\n",
    "        vec_errors[i] = mcnnm_loss(Yreal, Lest, O_valid_i)\n",
    "        \n",
    "    return vec_errors\n",
    "\n",
    "def mcnnm_GridSearch(Yreal, Yobs, observedset, lambda_vec, num_splits=10, doprint=True):\n",
    "    mat_errors = np.zeros((len(lambda_vec), num_splits))\n",
    "    for i, lambda_cv in enumerate(lambda_vec):\n",
    "        mat_errors[i,:] = mcnnm_kfold_CV(Yreal, Yobs, observedset, lambda_cv, num_splits=num_splits)\n",
    "    \n",
    "    \n",
    "    \n",
    "    df_results = pd.DataFrame(mat_errors,\n",
    "                             index = [\"Lambda = {}\".format(np.round(l, 2)) for l in lambda_vec],\n",
    "                             columns = [\"Fold {}\".format(i+1) for i in range(num_splits)])\n",
    "    \n",
    "    vec_rmse = df_results.mean(axis=1)\n",
    "    best_lambda = lambda_vec[np.argmin(np.array(vec_rmse))]\n",
    "    \n",
    "    if doprint:\n",
    "        print(\"\\nMatrix of errors:\")\n",
    "        print(\"-----------------\")\n",
    "        print(df_results)\n",
    "        print(\"\\nAverage RMSE across folds:\")\n",
    "        print(\"--------------------------\")\n",
    "        print(vec_rmse)\n",
    "        print(\"\\nBest parameter value (returned):\")\n",
    "        print(\"--------------------------------\")\n",
    "        print(np.round(best_lambda, 3))\n",
    "    \n",
    "    return best_lambda\n",
    "    \n"
   ]
  },
  {
   "cell_type": "code",
   "execution_count": 189,
   "metadata": {},
   "outputs": [
    {
     "name": "stdout",
     "output_type": "stream",
     "text": [
      "Lambda vector:[  2.2         32.94137931  63.68275862  94.42413793 125.16551724\n",
      " 155.90689655 186.64827586 217.38965517 248.13103448 278.87241379\n",
      " 309.6137931  340.35517241 371.09655172 401.83793103 432.57931034\n",
      " 463.32068966 494.06206897 524.80344828 555.54482759 586.2862069\n",
      " 617.02758621 647.76896552 678.51034483 709.25172414 739.99310345\n",
      " 770.73448276 801.47586207 832.21724138 862.95862069 893.7       ]\n"
     ]
    },
    {
     "data": {
      "image/png": "[encoded data removed]",
      "text/plain": [
       "<Figure size 432x288 with 1 Axes>"
      ]
     },
     "metadata": {
      "needs_background": "light"
     },
     "output_type": "display_data"
    }
   ],
   "source": [
    "# Creating my data\n",
    "N, T = (30, 40)\n",
    "Yreal = np.array([[np.random.exponential(scale = 2, size = 1)[0] + ((T-j)**0.75)*np.log(N-i+1) for j in np.arange(T)] for i in np.arange(N)])\n",
    "\n",
    "# specifying the units treated, and the earliest time of treatment\n",
    "tr_units = np.arange(int(N/3),N)\n",
    "t0 = int(T/2)\n",
    "\n",
    "# -------------------------------------------\n",
    "Yobs = stag_adopt(Yreal, tr_units, t0)\n",
    "plt.imshow(Yobs, cmap=plt.cm.gray);\n",
    "\n",
    "observedset = np.argwhere(~np.isnan(Yobs))\n",
    "\n",
    "# Specifying a set of values for lambda from a SVD on the Yobs with missing=0\n",
    "U, Sigma, VT = np.linalg.svd(PO_operator(Yobs, tuple(observedset.T)), full_matrices=False)\n",
    "lambda_values = np.linspace(1.1*np.min(np.floor(Sigma[Sigma>0])),\n",
    "                            0.9*np.max(np.floor(Sigma[Sigma>0])), \n",
    "                            num=30)\n",
    "print(\"Lambda vector:{}\".format(lambda_values))\n",
    "\n",
    "# Creating GridSearchCV-type objects\n",
    "tuned_parameters = [{'lamb': lambda_values}]\n",
    "n_folds = 5\n",
    "myfunction_loss = make_scorer(loss, setO=tuple(observedset.T), greater_is_better=False) # I don't use this...\n"
   ]
  },
  {
   "cell_type": "code",
   "execution_count": 192,
   "metadata": {},
   "outputs": [
    {
     "ename": "NameError",
     "evalue": "name 'lambda_vec' is not defined",
     "output_type": "error",
     "traceback": [
      "\u001b[1;31m---------------------------------------------------------------------------\u001b[0m",
      "\u001b[1;31mNameError\u001b[0m                                 Traceback (most recent call last)",
      "\u001b[1;32m<ipython-input-192-6088c9bdc7de>\u001b[0m in \u001b[0;36m<module>\u001b[1;34m\u001b[0m\n\u001b[1;32m----> 1\u001b[1;33m \u001b[0mbest_lamb\u001b[0m \u001b[1;33m=\u001b[0m \u001b[0mmcnnm_GridSearch\u001b[0m\u001b[1;33m(\u001b[0m\u001b[0mYreal\u001b[0m\u001b[1;33m,\u001b[0m \u001b[0mYobs\u001b[0m\u001b[1;33m,\u001b[0m \u001b[0mobservedset\u001b[0m\u001b[1;33m,\u001b[0m \u001b[0mlambda_values\u001b[0m\u001b[1;33m,\u001b[0m \u001b[0mnum_splits\u001b[0m\u001b[1;33m=\u001b[0m\u001b[0mn_folds\u001b[0m\u001b[1;33m,\u001b[0m \u001b[0mdoprint\u001b[0m\u001b[1;33m=\u001b[0m\u001b[1;32mFalse\u001b[0m\u001b[1;33m)\u001b[0m\u001b[1;33m\u001b[0m\u001b[0m\n\u001b[0m",
      "\u001b[1;32m<ipython-input-188-bbf7b64dd062>\u001b[0m in \u001b[0;36mmcnnm_GridSearch\u001b[1;34m(Yreal, Yobs, observedset, lambda_cv, num_splits, doprint)\u001b[0m\n\u001b[0;32m     19\u001b[0m \u001b[1;33m\u001b[0m\u001b[0m\n\u001b[0;32m     20\u001b[0m \u001b[1;32mdef\u001b[0m \u001b[0mmcnnm_GridSearch\u001b[0m\u001b[1;33m(\u001b[0m\u001b[0mYreal\u001b[0m\u001b[1;33m,\u001b[0m \u001b[0mYobs\u001b[0m\u001b[1;33m,\u001b[0m \u001b[0mobservedset\u001b[0m\u001b[1;33m,\u001b[0m \u001b[0mlambda_cv\u001b[0m\u001b[1;33m,\u001b[0m \u001b[0mnum_splits\u001b[0m\u001b[1;33m=\u001b[0m\u001b[1;36m10\u001b[0m\u001b[1;33m,\u001b[0m \u001b[0mdoprint\u001b[0m\u001b[1;33m=\u001b[0m\u001b[1;32mTrue\u001b[0m\u001b[1;33m)\u001b[0m\u001b[1;33m:\u001b[0m\u001b[1;33m\u001b[0m\u001b[0m\n\u001b[1;32m---> 21\u001b[1;33m     \u001b[0mmat_errors\u001b[0m \u001b[1;33m=\u001b[0m \u001b[0mnp\u001b[0m\u001b[1;33m.\u001b[0m\u001b[0mzeros\u001b[0m\u001b[1;33m(\u001b[0m\u001b[1;33m(\u001b[0m\u001b[0mlen\u001b[0m\u001b[1;33m(\u001b[0m\u001b[0mlambda_vec\u001b[0m\u001b[1;33m)\u001b[0m\u001b[1;33m,\u001b[0m \u001b[0mnum_splits\u001b[0m\u001b[1;33m)\u001b[0m\u001b[1;33m)\u001b[0m\u001b[1;33m\u001b[0m\u001b[0m\n\u001b[0m\u001b[0;32m     22\u001b[0m     \u001b[1;32mfor\u001b[0m \u001b[0mi\u001b[0m\u001b[1;33m,\u001b[0m \u001b[0mlambda_cv\u001b[0m \u001b[1;32min\u001b[0m \u001b[0menumerate\u001b[0m\u001b[1;33m(\u001b[0m\u001b[0mlambda_vec\u001b[0m\u001b[1;33m)\u001b[0m\u001b[1;33m:\u001b[0m\u001b[1;33m\u001b[0m\u001b[0m\n\u001b[0;32m     23\u001b[0m         \u001b[0mmat_errors\u001b[0m\u001b[1;33m[\u001b[0m\u001b[0mi\u001b[0m\u001b[1;33m,\u001b[0m\u001b[1;33m:\u001b[0m\u001b[1;33m]\u001b[0m \u001b[1;33m=\u001b[0m \u001b[0mmcnnm_kfold_CV\u001b[0m\u001b[1;33m(\u001b[0m\u001b[0mYreal\u001b[0m\u001b[1;33m,\u001b[0m \u001b[0mYobs\u001b[0m\u001b[1;33m,\u001b[0m \u001b[0mobservedset\u001b[0m\u001b[1;33m,\u001b[0m \u001b[0mlambda_cv\u001b[0m\u001b[1;33m,\u001b[0m \u001b[0mnum_splits\u001b[0m\u001b[1;33m=\u001b[0m\u001b[0mnum_splits\u001b[0m\u001b[1;33m)\u001b[0m\u001b[1;33m\u001b[0m\u001b[0m\n",
      "\u001b[1;31mNameError\u001b[0m: name 'lambda_vec' is not defined"
     ]
    }
   ],
   "source": [
    "best_lamb = mcnnm_GridSearch(Yreal, Yobs, observedset, lambda_values, num_splits=n_folds, doprint=False)"
   ]
  },
  {
   "cell_type": "code",
   "execution_count": 186,
   "metadata": {},
   "outputs": [
    {
     "name": "stdout",
     "output_type": "stream",
     "text": [
      "Iteration 1\t Current loss: 3.644606832908944\n",
      "Iteration 20\t Current loss: 1.9612413675661906\n",
      "Iteration 40\t Current loss: 1.9612413675638554\n",
      "Iteration 60\t Current loss: 1.9612413675638554\n",
      "Iteration 80\t Current loss: 1.9612413675638554\n",
      "Iteration 100\t Current loss: 1.9612413675638554\n",
      "Iteration 120\t Current loss: 1.9612413675638554\n",
      "Iteration 140\t Current loss: 1.9612413675638554\n",
      "Iteration 160\t Current loss: 1.9612413675638554\n",
      "Iteration 180\t Current loss: 1.9612413675638554\n",
      "Iteration 200\t Current loss: 1.9612413675638554\n",
      "\n",
      "Final values:\n",
      "Iteration 200\t Current loss: 1.9612413675638554\n",
      "\n",
      "[[55.64380628 56.8678642  56.35106139 ...  8.87181802  6.38668392\n",
      "   4.11048256]\n",
      " [54.75380107 56.0723814  53.59208778 ...  8.56743195  7.41985209\n",
      "   7.06152604]\n",
      " [55.62703231 52.80335507 53.58269217 ...  8.6477501   8.52671461\n",
      "  12.75308582]\n",
      " ...\n",
      " [26.37299333 23.56245636 24.2479384  ...         nan         nan\n",
      "          nan]\n",
      " [21.51129202 19.80002842 17.17687496 ...         nan         nan\n",
      "          nan]\n",
      " [12.18204334 15.87600259 14.69375548 ...         nan         nan\n",
      "          nan]]\n",
      "[[57.03 55.76 54.15 ...  9.31  8.6   5.92]\n",
      " [56.77 55.52 53.91 ...  9.27  8.57  5.9 ]\n",
      " [55.25 54.03 52.46 ...  9.02  8.34  5.74]\n",
      " ...\n",
      " [23.82 23.29 22.62 ...  3.89  3.59  2.47]\n",
      " [19.76 19.32 18.76 ...  3.22  2.98  2.05]\n",
      " [14.4  14.08 13.67 ...  2.35  2.17  1.5 ]]\n"
     ]
    },
    {
     "data": {
      "text/plain": [
       "1.9612413675638554"
      ]
     },
     "execution_count": 186,
     "metadata": {},
     "output_type": "execute_result"
    }
   ],
   "source": [
    "# Initializing the MC-NNM object\n",
    "my_mcnnm = MatrixCompletion_NNM(setOk=tuple(observedset.T), \n",
    "                                lamb=best_lamb, # <------ best value!\n",
    "                                epsilon=10**(-6), doprint=True, max_iters=200, printbatch=20)\n",
    "\n",
    "# Fitting (/transforming)\n",
    "Lest = my_mcnnm.fit_transform(Yobs)\n",
    "\n",
    "# total loss on the full sample\n",
    "mcnnm_loss(Yreal, Lest, tuple(observedset.T))"
   ]
  },
  {
   "cell_type": "code",
   "execution_count": 187,
   "metadata": {},
   "outputs": [
    {
     "data": {
      "image/png": "[encoded data removed]",
      "text/plain": [
       "<Figure size 432x288 with 2 Axes>"
      ]
     },
     "metadata": {
      "needs_background": "light"
     },
     "output_type": "display_data"
    }
   ],
   "source": [
    "fig, (ax0, ax1) = plt.subplots(ncols=2)\n",
    "ax0.imshow(Yreal, cmap=plt.cm.gray)\n",
    "ax1.imshow(Lest, cmap=plt.cm.gray)\n",
    "plt.show()"
   ]
  },
  {
   "cell_type": "code",
   "execution_count": null,
   "metadata": {},
   "outputs": [],
   "source": []
  }
 ],
 "metadata": {
  "kernelspec": {
   "display_name": "Python 3",
   "language": "python",
   "name": "python3"
  },
  "language_info": {
   "codemirror_mode": {
    "name": "ipython",
    "version": 3
   },
   "file_extension": ".py",
   "mimetype": "text/x-python",
   "name": "python",
   "nbconvert_exporter": "python",
   "pygments_lexer": "ipython3",
   "version": "3.6.6"
  }
 },
 "nbformat": 4,
 "nbformat_minor": 2
}
